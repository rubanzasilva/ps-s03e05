{
 "cells": [
  {
   "cell_type": "markdown",
   "id": "c1bf6239",
   "metadata": {
    "id": "peu2P4i6ZXeW",
    "papermill": {
     "duration": 0.00676,
     "end_time": "2023-02-08T19:09:12.211358",
     "exception": false,
     "start_time": "2023-02-08T19:09:12.204598",
     "status": "completed"
    },
    "tags": []
   },
   "source": [
    "Dataset description"
   ]
  },
  {
   "cell_type": "markdown",
   "id": "76abd5d8",
   "metadata": {
    "id": "QHhz0DeZZakw",
    "papermill": {
     "duration": 0.005367,
     "end_time": "2023-02-08T19:09:12.222675",
     "exception": false,
     "start_time": "2023-02-08T19:09:12.217308",
     "status": "completed"
    },
    "tags": []
   },
   "source": [
    "Goal is to predict the quality of wine\n",
    "The Score between 0 and 10"
   ]
  },
  {
   "cell_type": "markdown",
   "id": "3d282d2b",
   "metadata": {
    "id": "3wPlBRF8Vg7m",
    "papermill": {
     "duration": 0.005466,
     "end_time": "2023-02-08T19:09:12.233883",
     "exception": false,
     "start_time": "2023-02-08T19:09:12.228417",
     "status": "completed"
    },
    "tags": []
   },
   "source": [
    "imports"
   ]
  },
  {
   "cell_type": "code",
   "execution_count": 1,
   "id": "ec308e07",
   "metadata": {
    "execution": {
     "iopub.execute_input": "2023-02-08T19:09:12.247108Z",
     "iopub.status.busy": "2023-02-08T19:09:12.246616Z",
     "iopub.status.idle": "2023-02-08T19:09:17.118949Z",
     "shell.execute_reply": "2023-02-08T19:09:17.117885Z"
    },
    "id": "wYsPCtpMViLb",
    "papermill": {
     "duration": 4.882441,
     "end_time": "2023-02-08T19:09:17.122008",
     "exception": false,
     "start_time": "2023-02-08T19:09:12.239567",
     "status": "completed"
    },
    "tags": []
   },
   "outputs": [],
   "source": [
    "from fastai.tabular.all import *\n",
    "import pandas as pd\n",
    "import matplotlib.pyplot as plt\n",
    "import seaborn as sns\n",
    "import numpy as np"
   ]
  },
  {
   "cell_type": "code",
   "execution_count": 2,
   "id": "36701449",
   "metadata": {
    "execution": {
     "iopub.execute_input": "2023-02-08T19:09:17.139964Z",
     "iopub.status.busy": "2023-02-08T19:09:17.138732Z",
     "iopub.status.idle": "2023-02-08T19:09:18.149316Z",
     "shell.execute_reply": "2023-02-08T19:09:18.148013Z"
    },
    "papermill": {
     "duration": 1.022185,
     "end_time": "2023-02-08T19:09:18.151835",
     "exception": false,
     "start_time": "2023-02-08T19:09:17.129650",
     "status": "completed"
    },
    "tags": []
   },
   "outputs": [
    {
     "name": "stdout",
     "output_type": "stream",
     "text": [
      "sample_submission.csv  test.csv  train.csv\r\n"
     ]
    }
   ],
   "source": [
    "!ls /kaggle/input/playground-series-s3e5"
   ]
  },
  {
   "cell_type": "markdown",
   "id": "a286673d",
   "metadata": {
    "id": "flZ1M0XMWDgK",
    "papermill": {
     "duration": 0.006456,
     "end_time": "2023-02-08T19:09:18.164866",
     "exception": false,
     "start_time": "2023-02-08T19:09:18.158410",
     "status": "completed"
    },
    "tags": []
   },
   "source": [
    "Define dataframe"
   ]
  },
  {
   "cell_type": "code",
   "execution_count": 3,
   "id": "2a1a6e8b",
   "metadata": {
    "execution": {
     "iopub.execute_input": "2023-02-08T19:09:18.177929Z",
     "iopub.status.busy": "2023-02-08T19:09:18.177612Z",
     "iopub.status.idle": "2023-02-08T19:09:18.187505Z",
     "shell.execute_reply": "2023-02-08T19:09:18.186484Z"
    },
    "id": "YOhGriMVV861",
    "outputId": "5a304bcc-dad8-4087-9d59-53b499d04af2",
    "papermill": {
     "duration": 0.018862,
     "end_time": "2023-02-08T19:09:18.189540",
     "exception": false,
     "start_time": "2023-02-08T19:09:18.170678",
     "status": "completed"
    },
    "tags": []
   },
   "outputs": [
    {
     "data": {
      "text/plain": [
       "Path('/kaggle/input/playground-series-s3e5')"
      ]
     },
     "execution_count": 3,
     "metadata": {},
     "output_type": "execute_result"
    }
   ],
   "source": [
    "path = Path('/kaggle/input/playground-series-s3e5')\n",
    "path"
   ]
  },
  {
   "cell_type": "code",
   "execution_count": 4,
   "id": "e2fd5b78",
   "metadata": {
    "execution": {
     "iopub.execute_input": "2023-02-08T19:09:18.204162Z",
     "iopub.status.busy": "2023-02-08T19:09:18.203256Z",
     "iopub.status.idle": "2023-02-08T19:09:18.249827Z",
     "shell.execute_reply": "2023-02-08T19:09:18.248949Z"
    },
    "id": "wVRSTqFNV84W",
    "papermill": {
     "duration": 0.056278,
     "end_time": "2023-02-08T19:09:18.252076",
     "exception": false,
     "start_time": "2023-02-08T19:09:18.195798",
     "status": "completed"
    },
    "tags": []
   },
   "outputs": [],
   "source": [
    "train_df = pd.read_csv(path/'train.csv')\n",
    "test_df = pd.read_csv(path/'test.csv')\n",
    "sample_df = pd.read_csv(path/'sample_submission.csv')"
   ]
  },
  {
   "cell_type": "code",
   "execution_count": 5,
   "id": "d2e000ea",
   "metadata": {
    "execution": {
     "iopub.execute_input": "2023-02-08T19:09:18.268541Z",
     "iopub.status.busy": "2023-02-08T19:09:18.267050Z",
     "iopub.status.idle": "2023-02-08T19:09:18.303989Z",
     "shell.execute_reply": "2023-02-08T19:09:18.302746Z"
    },
    "id": "4i2r-prtzqfP",
    "outputId": "fd43416f-fa60-4d2e-a0c7-ed3229b52dc0",
    "papermill": {
     "duration": 0.047657,
     "end_time": "2023-02-08T19:09:18.306800",
     "exception": false,
     "start_time": "2023-02-08T19:09:18.259143",
     "status": "completed"
    },
    "tags": []
   },
   "outputs": [
    {
     "data": {
      "text/html": [
       "<div>\n",
       "<style scoped>\n",
       "    .dataframe tbody tr th:only-of-type {\n",
       "        vertical-align: middle;\n",
       "    }\n",
       "\n",
       "    .dataframe tbody tr th {\n",
       "        vertical-align: top;\n",
       "    }\n",
       "\n",
       "    .dataframe thead th {\n",
       "        text-align: right;\n",
       "    }\n",
       "</style>\n",
       "<table border=\"1\" class=\"dataframe\">\n",
       "  <thead>\n",
       "    <tr style=\"text-align: right;\">\n",
       "      <th></th>\n",
       "      <th>Id</th>\n",
       "      <th>fixed acidity</th>\n",
       "      <th>volatile acidity</th>\n",
       "      <th>citric acid</th>\n",
       "      <th>residual sugar</th>\n",
       "      <th>chlorides</th>\n",
       "      <th>free sulfur dioxide</th>\n",
       "      <th>total sulfur dioxide</th>\n",
       "      <th>density</th>\n",
       "      <th>pH</th>\n",
       "      <th>sulphates</th>\n",
       "      <th>alcohol</th>\n",
       "      <th>quality</th>\n",
       "    </tr>\n",
       "  </thead>\n",
       "  <tbody>\n",
       "    <tr>\n",
       "      <th>0</th>\n",
       "      <td>0</td>\n",
       "      <td>8.0</td>\n",
       "      <td>0.50</td>\n",
       "      <td>0.39</td>\n",
       "      <td>2.20</td>\n",
       "      <td>0.073</td>\n",
       "      <td>30.0</td>\n",
       "      <td>39.0</td>\n",
       "      <td>0.99572</td>\n",
       "      <td>3.33</td>\n",
       "      <td>0.77</td>\n",
       "      <td>12.1</td>\n",
       "      <td>6</td>\n",
       "    </tr>\n",
       "    <tr>\n",
       "      <th>1</th>\n",
       "      <td>1</td>\n",
       "      <td>9.3</td>\n",
       "      <td>0.30</td>\n",
       "      <td>0.73</td>\n",
       "      <td>2.30</td>\n",
       "      <td>0.092</td>\n",
       "      <td>30.0</td>\n",
       "      <td>67.0</td>\n",
       "      <td>0.99854</td>\n",
       "      <td>3.32</td>\n",
       "      <td>0.67</td>\n",
       "      <td>12.8</td>\n",
       "      <td>6</td>\n",
       "    </tr>\n",
       "    <tr>\n",
       "      <th>2</th>\n",
       "      <td>2</td>\n",
       "      <td>7.1</td>\n",
       "      <td>0.51</td>\n",
       "      <td>0.03</td>\n",
       "      <td>2.10</td>\n",
       "      <td>0.059</td>\n",
       "      <td>3.0</td>\n",
       "      <td>12.0</td>\n",
       "      <td>0.99660</td>\n",
       "      <td>3.52</td>\n",
       "      <td>0.73</td>\n",
       "      <td>11.3</td>\n",
       "      <td>7</td>\n",
       "    </tr>\n",
       "    <tr>\n",
       "      <th>3</th>\n",
       "      <td>3</td>\n",
       "      <td>8.1</td>\n",
       "      <td>0.87</td>\n",
       "      <td>0.22</td>\n",
       "      <td>2.60</td>\n",
       "      <td>0.084</td>\n",
       "      <td>11.0</td>\n",
       "      <td>65.0</td>\n",
       "      <td>0.99730</td>\n",
       "      <td>3.20</td>\n",
       "      <td>0.53</td>\n",
       "      <td>9.8</td>\n",
       "      <td>5</td>\n",
       "    </tr>\n",
       "    <tr>\n",
       "      <th>4</th>\n",
       "      <td>4</td>\n",
       "      <td>8.5</td>\n",
       "      <td>0.36</td>\n",
       "      <td>0.30</td>\n",
       "      <td>2.30</td>\n",
       "      <td>0.079</td>\n",
       "      <td>10.0</td>\n",
       "      <td>45.0</td>\n",
       "      <td>0.99444</td>\n",
       "      <td>3.20</td>\n",
       "      <td>1.36</td>\n",
       "      <td>9.5</td>\n",
       "      <td>6</td>\n",
       "    </tr>\n",
       "    <tr>\n",
       "      <th>...</th>\n",
       "      <td>...</td>\n",
       "      <td>...</td>\n",
       "      <td>...</td>\n",
       "      <td>...</td>\n",
       "      <td>...</td>\n",
       "      <td>...</td>\n",
       "      <td>...</td>\n",
       "      <td>...</td>\n",
       "      <td>...</td>\n",
       "      <td>...</td>\n",
       "      <td>...</td>\n",
       "      <td>...</td>\n",
       "      <td>...</td>\n",
       "    </tr>\n",
       "    <tr>\n",
       "      <th>2051</th>\n",
       "      <td>2051</td>\n",
       "      <td>6.6</td>\n",
       "      <td>0.31</td>\n",
       "      <td>0.13</td>\n",
       "      <td>2.00</td>\n",
       "      <td>0.056</td>\n",
       "      <td>29.0</td>\n",
       "      <td>42.0</td>\n",
       "      <td>0.99388</td>\n",
       "      <td>3.52</td>\n",
       "      <td>0.87</td>\n",
       "      <td>12.0</td>\n",
       "      <td>7</td>\n",
       "    </tr>\n",
       "    <tr>\n",
       "      <th>2052</th>\n",
       "      <td>2052</td>\n",
       "      <td>9.7</td>\n",
       "      <td>0.59</td>\n",
       "      <td>0.21</td>\n",
       "      <td>1.80</td>\n",
       "      <td>0.079</td>\n",
       "      <td>27.0</td>\n",
       "      <td>65.0</td>\n",
       "      <td>0.99745</td>\n",
       "      <td>3.14</td>\n",
       "      <td>0.58</td>\n",
       "      <td>9.4</td>\n",
       "      <td>5</td>\n",
       "    </tr>\n",
       "    <tr>\n",
       "      <th>2053</th>\n",
       "      <td>2053</td>\n",
       "      <td>7.7</td>\n",
       "      <td>0.43</td>\n",
       "      <td>0.42</td>\n",
       "      <td>1.70</td>\n",
       "      <td>0.071</td>\n",
       "      <td>19.0</td>\n",
       "      <td>37.0</td>\n",
       "      <td>0.99258</td>\n",
       "      <td>3.32</td>\n",
       "      <td>0.77</td>\n",
       "      <td>12.5</td>\n",
       "      <td>8</td>\n",
       "    </tr>\n",
       "    <tr>\n",
       "      <th>2054</th>\n",
       "      <td>2054</td>\n",
       "      <td>9.1</td>\n",
       "      <td>0.50</td>\n",
       "      <td>0.00</td>\n",
       "      <td>1.75</td>\n",
       "      <td>0.058</td>\n",
       "      <td>5.0</td>\n",
       "      <td>13.0</td>\n",
       "      <td>0.99670</td>\n",
       "      <td>3.22</td>\n",
       "      <td>0.42</td>\n",
       "      <td>9.5</td>\n",
       "      <td>5</td>\n",
       "    </tr>\n",
       "    <tr>\n",
       "      <th>2055</th>\n",
       "      <td>2055</td>\n",
       "      <td>6.2</td>\n",
       "      <td>0.31</td>\n",
       "      <td>0.18</td>\n",
       "      <td>2.30</td>\n",
       "      <td>0.059</td>\n",
       "      <td>12.0</td>\n",
       "      <td>28.0</td>\n",
       "      <td>0.99520</td>\n",
       "      <td>3.56</td>\n",
       "      <td>0.88</td>\n",
       "      <td>11.4</td>\n",
       "      <td>7</td>\n",
       "    </tr>\n",
       "  </tbody>\n",
       "</table>\n",
       "<p>2056 rows × 13 columns</p>\n",
       "</div>"
      ],
      "text/plain": [
       "        Id  fixed acidity  volatile acidity  citric acid  residual sugar  \\\n",
       "0        0            8.0              0.50         0.39            2.20   \n",
       "1        1            9.3              0.30         0.73            2.30   \n",
       "2        2            7.1              0.51         0.03            2.10   \n",
       "3        3            8.1              0.87         0.22            2.60   \n",
       "4        4            8.5              0.36         0.30            2.30   \n",
       "...    ...            ...               ...          ...             ...   \n",
       "2051  2051            6.6              0.31         0.13            2.00   \n",
       "2052  2052            9.7              0.59         0.21            1.80   \n",
       "2053  2053            7.7              0.43         0.42            1.70   \n",
       "2054  2054            9.1              0.50         0.00            1.75   \n",
       "2055  2055            6.2              0.31         0.18            2.30   \n",
       "\n",
       "      chlorides  free sulfur dioxide  total sulfur dioxide  density    pH  \\\n",
       "0         0.073                 30.0                  39.0  0.99572  3.33   \n",
       "1         0.092                 30.0                  67.0  0.99854  3.32   \n",
       "2         0.059                  3.0                  12.0  0.99660  3.52   \n",
       "3         0.084                 11.0                  65.0  0.99730  3.20   \n",
       "4         0.079                 10.0                  45.0  0.99444  3.20   \n",
       "...         ...                  ...                   ...      ...   ...   \n",
       "2051      0.056                 29.0                  42.0  0.99388  3.52   \n",
       "2052      0.079                 27.0                  65.0  0.99745  3.14   \n",
       "2053      0.071                 19.0                  37.0  0.99258  3.32   \n",
       "2054      0.058                  5.0                  13.0  0.99670  3.22   \n",
       "2055      0.059                 12.0                  28.0  0.99520  3.56   \n",
       "\n",
       "      sulphates  alcohol  quality  \n",
       "0          0.77     12.1        6  \n",
       "1          0.67     12.8        6  \n",
       "2          0.73     11.3        7  \n",
       "3          0.53      9.8        5  \n",
       "4          1.36      9.5        6  \n",
       "...         ...      ...      ...  \n",
       "2051       0.87     12.0        7  \n",
       "2052       0.58      9.4        5  \n",
       "2053       0.77     12.5        8  \n",
       "2054       0.42      9.5        5  \n",
       "2055       0.88     11.4        7  \n",
       "\n",
       "[2056 rows x 13 columns]"
      ]
     },
     "execution_count": 5,
     "metadata": {},
     "output_type": "execute_result"
    }
   ],
   "source": [
    "train_df"
   ]
  },
  {
   "cell_type": "code",
   "execution_count": 6,
   "id": "d2ad840e",
   "metadata": {
    "execution": {
     "iopub.execute_input": "2023-02-08T19:09:18.320600Z",
     "iopub.status.busy": "2023-02-08T19:09:18.320317Z",
     "iopub.status.idle": "2023-02-08T19:09:18.326276Z",
     "shell.execute_reply": "2023-02-08T19:09:18.325358Z"
    },
    "id": "083GY3yoV82Q",
    "outputId": "b61899cb-14e2-4bc5-be85-96c7e144a974",
    "papermill": {
     "duration": 0.014732,
     "end_time": "2023-02-08T19:09:18.328253",
     "exception": false,
     "start_time": "2023-02-08T19:09:18.313521",
     "status": "completed"
    },
    "tags": []
   },
   "outputs": [
    {
     "data": {
      "text/plain": [
       "Index(['Id', 'fixed acidity', 'volatile acidity', 'citric acid',\n",
       "       'residual sugar', 'chlorides', 'free sulfur dioxide',\n",
       "       'total sulfur dioxide', 'density', 'pH', 'sulphates', 'alcohol',\n",
       "       'quality'],\n",
       "      dtype='object')"
      ]
     },
     "execution_count": 6,
     "metadata": {},
     "output_type": "execute_result"
    }
   ],
   "source": [
    "train_df.columns"
   ]
  },
  {
   "cell_type": "code",
   "execution_count": 7,
   "id": "8b3d8e54",
   "metadata": {
    "execution": {
     "iopub.execute_input": "2023-02-08T19:09:18.343703Z",
     "iopub.status.busy": "2023-02-08T19:09:18.341935Z",
     "iopub.status.idle": "2023-02-08T19:09:19.493717Z",
     "shell.execute_reply": "2023-02-08T19:09:19.492712Z"
    },
    "id": "2jOOgpzGR3Yw",
    "outputId": "a0b427af-3687-4488-af62-50aca24e5a91",
    "papermill": {
     "duration": 1.161882,
     "end_time": "2023-02-08T19:09:19.496699",
     "exception": false,
     "start_time": "2023-02-08T19:09:18.334817",
     "status": "completed"
    },
    "tags": []
   },
   "outputs": [
    {
     "data": {
      "image/png": "[encoded data removed]",
      "text/plain": [
       "<Figure size 1152x432 with 2 Axes>"
      ]
     },
     "metadata": {
      "needs_background": "light"
     },
     "output_type": "display_data"
    }
   ],
   "source": [
    "#correlation matrix with heatmap\n",
    "\n",
    "#set plot size, must be in same cell as train_Corr\n",
    "plt.figure(figsize=(16,6))\n",
    "train_corr = sns.heatmap(train_df.corr(), annot=True, fmt=\".1f\", linewidth=.7, cmap=\"crest\")\n"
   ]
  },
  {
   "cell_type": "markdown",
   "id": "add4b087",
   "metadata": {
    "id": "SBf3JopjePc3",
    "papermill": {
     "duration": 0.007193,
     "end_time": "2023-02-08T19:09:19.511467",
     "exception": false,
     "start_time": "2023-02-08T19:09:19.504274",
     "status": "completed"
    },
    "tags": []
   },
   "source": [
    "**Builing data loaders**"
   ]
  },
  {
   "cell_type": "code",
   "execution_count": 8,
   "id": "8eceaede",
   "metadata": {
    "execution": {
     "iopub.execute_input": "2023-02-08T19:09:19.527763Z",
     "iopub.status.busy": "2023-02-08T19:09:19.527429Z",
     "iopub.status.idle": "2023-02-08T19:09:19.700906Z",
     "shell.execute_reply": "2023-02-08T19:09:19.699838Z"
    },
    "id": "ap0sH9_vV8zu",
    "papermill": {
     "duration": 0.184328,
     "end_time": "2023-02-08T19:09:19.703443",
     "exception": false,
     "start_time": "2023-02-08T19:09:19.519115",
     "status": "completed"
    },
    "tags": []
   },
   "outputs": [],
   "source": [
    "dls = TabularDataLoaders.from_csv(path/'train.csv', path=path, y_names=\"quality\",\n",
    "    cat_names = None,\n",
    "    cont_names = ['Id', 'fixed acidity', 'volatile acidity', 'citric acid','residual sugar', 'chlorides', 'free sulfur dioxide','total sulfur dioxide', 'density', 'pH', 'sulphates', 'alcohol'],\n",
    "    procs = [Categorify, FillMissing, Normalize])"
   ]
  },
  {
   "cell_type": "code",
   "execution_count": 9,
   "id": "0ee7ded2",
   "metadata": {
    "execution": {
     "iopub.execute_input": "2023-02-08T19:09:19.722333Z",
     "iopub.status.busy": "2023-02-08T19:09:19.721402Z",
     "iopub.status.idle": "2023-02-08T19:09:19.727422Z",
     "shell.execute_reply": "2023-02-08T19:09:19.726485Z"
    },
    "id": "AOGZ8zxaWiUY",
    "papermill": {
     "duration": 0.017436,
     "end_time": "2023-02-08T19:09:19.729603",
     "exception": false,
     "start_time": "2023-02-08T19:09:19.712167",
     "status": "completed"
    },
    "tags": []
   },
   "outputs": [],
   "source": [
    "splits = RandomSplitter(valid_pct=0.2)(range_of(train_df))"
   ]
  },
  {
   "cell_type": "code",
   "execution_count": 10,
   "id": "09651165",
   "metadata": {
    "execution": {
     "iopub.execute_input": "2023-02-08T19:09:19.745685Z",
     "iopub.status.busy": "2023-02-08T19:09:19.745407Z",
     "iopub.status.idle": "2023-02-08T19:09:19.774834Z",
     "shell.execute_reply": "2023-02-08T19:09:19.773819Z"
    },
    "id": "DyOakUUVV8wK",
    "papermill": {
     "duration": 0.040071,
     "end_time": "2023-02-08T19:09:19.777010",
     "exception": false,
     "start_time": "2023-02-08T19:09:19.736939",
     "status": "completed"
    },
    "tags": []
   },
   "outputs": [],
   "source": [
    "to = TabularPandas(train_df, procs=[Categorify, FillMissing,Normalize],\n",
    "                   cat_names = None,\n",
    "    cont_names = ['Id', 'fixed acidity', 'volatile acidity', 'citric acid','residual sugar', 'chlorides', 'free sulfur dioxide','total sulfur dioxide', 'density', 'pH', 'sulphates', 'alcohol',],\n",
    "                   y_names='quality',\n",
    "                   splits=splits)"
   ]
  },
  {
   "cell_type": "code",
   "execution_count": 11,
   "id": "2e9e844d",
   "metadata": {
    "execution": {
     "iopub.execute_input": "2023-02-08T19:09:19.793918Z",
     "iopub.status.busy": "2023-02-08T19:09:19.793184Z",
     "iopub.status.idle": "2023-02-08T19:09:19.811463Z",
     "shell.execute_reply": "2023-02-08T19:09:19.810326Z"
    },
    "id": "CQOz2g2bWnYC",
    "outputId": "641531be-2b79-49ec-81ff-f806242282da",
    "papermill": {
     "duration": 0.029427,
     "end_time": "2023-02-08T19:09:19.813885",
     "exception": false,
     "start_time": "2023-02-08T19:09:19.784458",
     "status": "completed"
    },
    "tags": []
   },
   "outputs": [
    {
     "data": {
      "text/html": [
       "<div>\n",
       "<style scoped>\n",
       "    .dataframe tbody tr th:only-of-type {\n",
       "        vertical-align: middle;\n",
       "    }\n",
       "\n",
       "    .dataframe tbody tr th {\n",
       "        vertical-align: top;\n",
       "    }\n",
       "\n",
       "    .dataframe thead th {\n",
       "        text-align: right;\n",
       "    }\n",
       "</style>\n",
       "<table border=\"1\" class=\"dataframe\">\n",
       "  <thead>\n",
       "    <tr style=\"text-align: right;\">\n",
       "      <th></th>\n",
       "      <th>Id</th>\n",
       "      <th>fixed acidity</th>\n",
       "      <th>volatile acidity</th>\n",
       "      <th>citric acid</th>\n",
       "      <th>residual sugar</th>\n",
       "      <th>chlorides</th>\n",
       "      <th>free sulfur dioxide</th>\n",
       "      <th>total sulfur dioxide</th>\n",
       "      <th>density</th>\n",
       "      <th>pH</th>\n",
       "      <th>sulphates</th>\n",
       "      <th>alcohol</th>\n",
       "    </tr>\n",
       "  </thead>\n",
       "  <tbody>\n",
       "    <tr>\n",
       "      <th>487</th>\n",
       "      <td>-0.924678</td>\n",
       "      <td>-0.147367</td>\n",
       "      <td>-0.110722</td>\n",
       "      <td>-1.390654</td>\n",
       "      <td>-0.117030</td>\n",
       "      <td>-0.493623</td>\n",
       "      <td>-0.488871</td>\n",
       "      <td>-0.911337</td>\n",
       "      <td>-1.252917</td>\n",
       "      <td>-0.011310</td>\n",
       "      <td>0.886006</td>\n",
       "      <td>1.927771</td>\n",
       "    </tr>\n",
       "    <tr>\n",
       "      <th>140</th>\n",
       "      <td>-1.512120</td>\n",
       "      <td>-0.785773</td>\n",
       "      <td>1.206832</td>\n",
       "      <td>-1.390654</td>\n",
       "      <td>0.228701</td>\n",
       "      <td>0.465904</td>\n",
       "      <td>-1.187345</td>\n",
       "      <td>-1.124414</td>\n",
       "      <td>-1.948388</td>\n",
       "      <td>0.615788</td>\n",
       "      <td>-0.072183</td>\n",
       "      <td>1.540583</td>\n",
       "    </tr>\n",
       "  </tbody>\n",
       "</table>\n",
       "</div>"
      ],
      "text/plain": [
       "           Id  fixed acidity  volatile acidity  citric acid  residual sugar  \\\n",
       "487 -0.924678      -0.147367         -0.110722    -1.390654       -0.117030   \n",
       "140 -1.512120      -0.785773          1.206832    -1.390654        0.228701   \n",
       "\n",
       "     chlorides  free sulfur dioxide  total sulfur dioxide   density        pH  \\\n",
       "487  -0.493623            -0.488871             -0.911337 -1.252917 -0.011310   \n",
       "140   0.465904            -1.187345             -1.124414 -1.948388  0.615788   \n",
       "\n",
       "     sulphates   alcohol  \n",
       "487   0.886006  1.927771  \n",
       "140  -0.072183  1.540583  "
      ]
     },
     "execution_count": 11,
     "metadata": {},
     "output_type": "execute_result"
    }
   ],
   "source": [
    "to.xs.iloc[:2]"
   ]
  },
  {
   "cell_type": "code",
   "execution_count": 12,
   "id": "739fdfb1",
   "metadata": {
    "execution": {
     "iopub.execute_input": "2023-02-08T19:09:19.831712Z",
     "iopub.status.busy": "2023-02-08T19:09:19.830861Z",
     "iopub.status.idle": "2023-02-08T19:09:19.841133Z",
     "shell.execute_reply": "2023-02-08T19:09:19.840273Z"
    },
    "id": "ZkFngT03WnUY",
    "papermill": {
     "duration": 0.021053,
     "end_time": "2023-02-08T19:09:19.843232",
     "exception": false,
     "start_time": "2023-02-08T19:09:19.822179",
     "status": "completed"
    },
    "tags": []
   },
   "outputs": [],
   "source": [
    "dls = to.dataloaders(bs=32)"
   ]
  },
  {
   "cell_type": "code",
   "execution_count": 13,
   "id": "927a05cb",
   "metadata": {
    "execution": {
     "iopub.execute_input": "2023-02-08T19:09:19.860487Z",
     "iopub.status.busy": "2023-02-08T19:09:19.859853Z",
     "iopub.status.idle": "2023-02-08T19:09:19.889556Z",
     "shell.execute_reply": "2023-02-08T19:09:19.888362Z"
    },
    "id": "J5b055ZShYu8",
    "outputId": "93a83849-1b87-48b6-a6b2-1fe4fdfa31fc",
    "papermill": {
     "duration": 0.04096,
     "end_time": "2023-02-08T19:09:19.892194",
     "exception": false,
     "start_time": "2023-02-08T19:09:19.851234",
     "status": "completed"
    },
    "tags": []
   },
   "outputs": [
    {
     "data": {
      "text/html": [
       "<table border=\"1\" class=\"dataframe\">\n",
       "  <thead>\n",
       "    <tr style=\"text-align: right;\">\n",
       "      <th></th>\n",
       "      <th>Id</th>\n",
       "      <th>fixed acidity</th>\n",
       "      <th>volatile acidity</th>\n",
       "      <th>citric acid</th>\n",
       "      <th>residual sugar</th>\n",
       "      <th>chlorides</th>\n",
       "      <th>free sulfur dioxide</th>\n",
       "      <th>total sulfur dioxide</th>\n",
       "      <th>density</th>\n",
       "      <th>pH</th>\n",
       "      <th>sulphates</th>\n",
       "      <th>alcohol</th>\n",
       "      <th>quality</th>\n",
       "    </tr>\n",
       "  </thead>\n",
       "  <tbody>\n",
       "    <tr>\n",
       "      <th>0</th>\n",
       "      <td>693.000010</td>\n",
       "      <td>11.5</td>\n",
       "      <td>0.35</td>\n",
       "      <td>0.45</td>\n",
       "      <td>3.2</td>\n",
       "      <td>0.092</td>\n",
       "      <td>6.0</td>\n",
       "      <td>23.000000</td>\n",
       "      <td>0.99960</td>\n",
       "      <td>3.36</td>\n",
       "      <td>0.60</td>\n",
       "      <td>11.0</td>\n",
       "      <td>5.0</td>\n",
       "    </tr>\n",
       "    <tr>\n",
       "      <th>1</th>\n",
       "      <td>2023.999987</td>\n",
       "      <td>7.6</td>\n",
       "      <td>0.78</td>\n",
       "      <td>0.32</td>\n",
       "      <td>1.9</td>\n",
       "      <td>0.082</td>\n",
       "      <td>16.0</td>\n",
       "      <td>86.000001</td>\n",
       "      <td>0.99748</td>\n",
       "      <td>3.31</td>\n",
       "      <td>0.52</td>\n",
       "      <td>10.0</td>\n",
       "      <td>5.0</td>\n",
       "    </tr>\n",
       "    <tr>\n",
       "      <th>2</th>\n",
       "      <td>1286.000008</td>\n",
       "      <td>7.9</td>\n",
       "      <td>0.53</td>\n",
       "      <td>0.06</td>\n",
       "      <td>2.6</td>\n",
       "      <td>0.076</td>\n",
       "      <td>32.0</td>\n",
       "      <td>54.000000</td>\n",
       "      <td>0.99618</td>\n",
       "      <td>3.33</td>\n",
       "      <td>0.83</td>\n",
       "      <td>10.9</td>\n",
       "      <td>7.0</td>\n",
       "    </tr>\n",
       "    <tr>\n",
       "      <th>3</th>\n",
       "      <td>1414.999996</td>\n",
       "      <td>8.9</td>\n",
       "      <td>0.43</td>\n",
       "      <td>0.39</td>\n",
       "      <td>2.1</td>\n",
       "      <td>0.093</td>\n",
       "      <td>16.0</td>\n",
       "      <td>42.000000</td>\n",
       "      <td>0.99652</td>\n",
       "      <td>3.35</td>\n",
       "      <td>0.52</td>\n",
       "      <td>12.9</td>\n",
       "      <td>6.0</td>\n",
       "    </tr>\n",
       "    <tr>\n",
       "      <th>4</th>\n",
       "      <td>403.999997</td>\n",
       "      <td>7.5</td>\n",
       "      <td>0.28</td>\n",
       "      <td>0.34</td>\n",
       "      <td>2.1</td>\n",
       "      <td>0.082</td>\n",
       "      <td>28.0</td>\n",
       "      <td>133.000003</td>\n",
       "      <td>0.99560</td>\n",
       "      <td>3.36</td>\n",
       "      <td>0.55</td>\n",
       "      <td>10.3</td>\n",
       "      <td>6.0</td>\n",
       "    </tr>\n",
       "    <tr>\n",
       "      <th>5</th>\n",
       "      <td>538.999985</td>\n",
       "      <td>6.9</td>\n",
       "      <td>0.57</td>\n",
       "      <td>0.02</td>\n",
       "      <td>2.1</td>\n",
       "      <td>0.123</td>\n",
       "      <td>10.0</td>\n",
       "      <td>31.000000</td>\n",
       "      <td>0.99599</td>\n",
       "      <td>3.53</td>\n",
       "      <td>0.60</td>\n",
       "      <td>10.9</td>\n",
       "      <td>6.0</td>\n",
       "    </tr>\n",
       "    <tr>\n",
       "      <th>6</th>\n",
       "      <td>1842.999972</td>\n",
       "      <td>8.9</td>\n",
       "      <td>0.35</td>\n",
       "      <td>0.53</td>\n",
       "      <td>2.6</td>\n",
       "      <td>0.077</td>\n",
       "      <td>8.0</td>\n",
       "      <td>14.999998</td>\n",
       "      <td>0.99534</td>\n",
       "      <td>3.23</td>\n",
       "      <td>0.57</td>\n",
       "      <td>11.5</td>\n",
       "      <td>6.0</td>\n",
       "    </tr>\n",
       "    <tr>\n",
       "      <th>7</th>\n",
       "      <td>1589.000008</td>\n",
       "      <td>7.5</td>\n",
       "      <td>0.43</td>\n",
       "      <td>0.30</td>\n",
       "      <td>2.3</td>\n",
       "      <td>0.062</td>\n",
       "      <td>27.0</td>\n",
       "      <td>46.000000</td>\n",
       "      <td>0.99730</td>\n",
       "      <td>3.35</td>\n",
       "      <td>0.65</td>\n",
       "      <td>10.0</td>\n",
       "      <td>7.0</td>\n",
       "    </tr>\n",
       "    <tr>\n",
       "      <th>8</th>\n",
       "      <td>988.000000</td>\n",
       "      <td>7.2</td>\n",
       "      <td>0.58</td>\n",
       "      <td>0.30</td>\n",
       "      <td>2.2</td>\n",
       "      <td>0.076</td>\n",
       "      <td>30.0</td>\n",
       "      <td>54.000000</td>\n",
       "      <td>0.99728</td>\n",
       "      <td>3.29</td>\n",
       "      <td>0.55</td>\n",
       "      <td>9.8</td>\n",
       "      <td>6.0</td>\n",
       "    </tr>\n",
       "    <tr>\n",
       "      <th>9</th>\n",
       "      <td>261.999972</td>\n",
       "      <td>6.6</td>\n",
       "      <td>0.40</td>\n",
       "      <td>0.49</td>\n",
       "      <td>2.0</td>\n",
       "      <td>0.095</td>\n",
       "      <td>19.0</td>\n",
       "      <td>58.000000</td>\n",
       "      <td>0.99680</td>\n",
       "      <td>3.45</td>\n",
       "      <td>0.57</td>\n",
       "      <td>12.7</td>\n",
       "      <td>6.0</td>\n",
       "    </tr>\n",
       "  </tbody>\n",
       "</table>"
      ],
      "text/plain": [
       "<IPython.core.display.HTML object>"
      ]
     },
     "metadata": {},
     "output_type": "display_data"
    }
   ],
   "source": [
    "dls.show_batch()"
   ]
  },
  {
   "cell_type": "code",
   "execution_count": 14,
   "id": "bead6a7c",
   "metadata": {
    "execution": {
     "iopub.execute_input": "2023-02-08T19:09:19.911064Z",
     "iopub.status.busy": "2023-02-08T19:09:19.910356Z",
     "iopub.status.idle": "2023-02-08T19:09:19.918545Z",
     "shell.execute_reply": "2023-02-08T19:09:19.917618Z"
    },
    "id": "YRpNi8MOV8tp",
    "papermill": {
     "duration": 0.019902,
     "end_time": "2023-02-08T19:09:19.920916",
     "exception": false,
     "start_time": "2023-02-08T19:09:19.901014",
     "status": "completed"
    },
    "tags": []
   },
   "outputs": [],
   "source": [
    "learn = tabular_learner(dls, metrics=accuracy)"
   ]
  },
  {
   "cell_type": "code",
   "execution_count": 15,
   "id": "33f7f100",
   "metadata": {
    "execution": {
     "iopub.execute_input": "2023-02-08T19:09:19.939399Z",
     "iopub.status.busy": "2023-02-08T19:09:19.938606Z",
     "iopub.status.idle": "2023-02-08T19:09:27.331421Z",
     "shell.execute_reply": "2023-02-08T19:09:27.330324Z"
    },
    "id": "-O1TR9aHV8q9",
    "outputId": "65fee4fd-5fdc-445b-c5d6-e41bc971e1e0",
    "papermill": {
     "duration": 7.404334,
     "end_time": "2023-02-08T19:09:27.333789",
     "exception": false,
     "start_time": "2023-02-08T19:09:19.929455",
     "status": "completed"
    },
    "tags": []
   },
   "outputs": [
    {
     "data": {
      "text/html": [
       "\n",
       "<style>\n",
       "    /* Turns off some styling */\n",
       "    progress {\n",
       "        /* gets rid of default border in Firefox and Opera. */\n",
       "        border: none;\n",
       "        /* Needs to be in here for Safari polyfill so background images work as expected. */\n",
       "        background-size: auto;\n",
       "    }\n",
       "    progress:not([value]), progress:not([value])::-webkit-progress-bar {\n",
       "        background: repeating-linear-gradient(45deg, #7e7e7e, #7e7e7e 10px, #5c5c5c 10px, #5c5c5c 20px);\n",
       "    }\n",
       "    .progress-bar-interrupted, .progress-bar-interrupted::-webkit-progress-bar {\n",
       "        background: #F44336;\n",
       "    }\n",
       "</style>\n"
      ],
      "text/plain": [
       "<IPython.core.display.HTML object>"
      ]
     },
     "metadata": {},
     "output_type": "display_data"
    },
    {
     "data": {
      "text/html": [],
      "text/plain": [
       "<IPython.core.display.HTML object>"
      ]
     },
     "metadata": {},
     "output_type": "display_data"
    },
    {
     "data": {
      "text/plain": [
       "SuggestedLRs(valley=0.015848932787775993)"
      ]
     },
     "execution_count": 15,
     "metadata": {},
     "output_type": "execute_result"
    },
    {
     "data": {
      "image/png": "[encoded data removed]",
      "text/plain": [
       "<Figure size 432x288 with 1 Axes>"
      ]
     },
     "metadata": {
      "needs_background": "light"
     },
     "output_type": "display_data"
    }
   ],
   "source": [
    "learn.lr_find()"
   ]
  },
  {
   "cell_type": "code",
   "execution_count": 16,
   "id": "afe4d405",
   "metadata": {
    "execution": {
     "iopub.execute_input": "2023-02-08T19:09:27.352979Z",
     "iopub.status.busy": "2023-02-08T19:09:27.352675Z",
     "iopub.status.idle": "2023-02-08T19:09:38.286060Z",
     "shell.execute_reply": "2023-02-08T19:09:38.284790Z"
    },
    "id": "Tz65R1rXXFjR",
    "outputId": "cbe27be5-c2f7-4ab4-e348-0e9a26a30558",
    "papermill": {
     "duration": 10.945929,
     "end_time": "2023-02-08T19:09:38.288678",
     "exception": false,
     "start_time": "2023-02-08T19:09:27.342749",
     "status": "completed"
    },
    "tags": []
   },
   "outputs": [
    {
     "data": {
      "text/html": [
       "\n",
       "<style>\n",
       "    /* Turns off some styling */\n",
       "    progress {\n",
       "        /* gets rid of default border in Firefox and Opera. */\n",
       "        border: none;\n",
       "        /* Needs to be in here for Safari polyfill so background images work as expected. */\n",
       "        background-size: auto;\n",
       "    }\n",
       "    progress:not([value]), progress:not([value])::-webkit-progress-bar {\n",
       "        background: repeating-linear-gradient(45deg, #7e7e7e, #7e7e7e 10px, #5c5c5c 10px, #5c5c5c 20px);\n",
       "    }\n",
       "    .progress-bar-interrupted, .progress-bar-interrupted::-webkit-progress-bar {\n",
       "        background: #F44336;\n",
       "    }\n",
       "</style>\n"
      ],
      "text/plain": [
       "<IPython.core.display.HTML object>"
      ]
     },
     "metadata": {},
     "output_type": "display_data"
    },
    {
     "data": {
      "text/html": [
       "<table border=\"1\" class=\"dataframe\">\n",
       "  <thead>\n",
       "    <tr style=\"text-align: left;\">\n",
       "      <th>epoch</th>\n",
       "      <th>train_loss</th>\n",
       "      <th>valid_loss</th>\n",
       "      <th>accuracy</th>\n",
       "      <th>time</th>\n",
       "    </tr>\n",
       "  </thead>\n",
       "  <tbody>\n",
       "    <tr>\n",
       "      <td>0</td>\n",
       "      <td>34.280991</td>\n",
       "      <td>34.315338</td>\n",
       "      <td>0.000000</td>\n",
       "      <td>00:00</td>\n",
       "    </tr>\n",
       "    <tr>\n",
       "      <td>1</td>\n",
       "      <td>33.765930</td>\n",
       "      <td>33.437626</td>\n",
       "      <td>0.000000</td>\n",
       "      <td>00:00</td>\n",
       "    </tr>\n",
       "    <tr>\n",
       "      <td>2</td>\n",
       "      <td>32.456600</td>\n",
       "      <td>30.981865</td>\n",
       "      <td>0.000000</td>\n",
       "      <td>00:00</td>\n",
       "    </tr>\n",
       "    <tr>\n",
       "      <td>3</td>\n",
       "      <td>28.018761</td>\n",
       "      <td>21.470123</td>\n",
       "      <td>0.000000</td>\n",
       "      <td>00:00</td>\n",
       "    </tr>\n",
       "    <tr>\n",
       "      <td>4</td>\n",
       "      <td>18.460339</td>\n",
       "      <td>8.121764</td>\n",
       "      <td>0.000000</td>\n",
       "      <td>00:00</td>\n",
       "    </tr>\n",
       "    <tr>\n",
       "      <td>5</td>\n",
       "      <td>9.002420</td>\n",
       "      <td>1.976490</td>\n",
       "      <td>0.000000</td>\n",
       "      <td>00:00</td>\n",
       "    </tr>\n",
       "    <tr>\n",
       "      <td>6</td>\n",
       "      <td>3.825998</td>\n",
       "      <td>0.807338</td>\n",
       "      <td>0.000000</td>\n",
       "      <td>00:00</td>\n",
       "    </tr>\n",
       "    <tr>\n",
       "      <td>7</td>\n",
       "      <td>1.775284</td>\n",
       "      <td>0.787251</td>\n",
       "      <td>0.000000</td>\n",
       "      <td>00:00</td>\n",
       "    </tr>\n",
       "    <tr>\n",
       "      <td>8</td>\n",
       "      <td>1.003816</td>\n",
       "      <td>0.824123</td>\n",
       "      <td>0.000000</td>\n",
       "      <td>00:00</td>\n",
       "    </tr>\n",
       "    <tr>\n",
       "      <td>9</td>\n",
       "      <td>0.700605</td>\n",
       "      <td>0.771510</td>\n",
       "      <td>0.000000</td>\n",
       "      <td>00:00</td>\n",
       "    </tr>\n",
       "    <tr>\n",
       "      <td>10</td>\n",
       "      <td>0.586073</td>\n",
       "      <td>0.723017</td>\n",
       "      <td>0.000000</td>\n",
       "      <td>00:00</td>\n",
       "    </tr>\n",
       "    <tr>\n",
       "      <td>11</td>\n",
       "      <td>0.504335</td>\n",
       "      <td>0.659464</td>\n",
       "      <td>0.000000</td>\n",
       "      <td>00:00</td>\n",
       "    </tr>\n",
       "    <tr>\n",
       "      <td>12</td>\n",
       "      <td>0.450235</td>\n",
       "      <td>0.658879</td>\n",
       "      <td>0.000000</td>\n",
       "      <td>00:00</td>\n",
       "    </tr>\n",
       "    <tr>\n",
       "      <td>13</td>\n",
       "      <td>0.436028</td>\n",
       "      <td>0.624116</td>\n",
       "      <td>0.000000</td>\n",
       "      <td>00:00</td>\n",
       "    </tr>\n",
       "    <tr>\n",
       "      <td>14</td>\n",
       "      <td>0.410543</td>\n",
       "      <td>0.613032</td>\n",
       "      <td>0.000000</td>\n",
       "      <td>00:00</td>\n",
       "    </tr>\n",
       "    <tr>\n",
       "      <td>15</td>\n",
       "      <td>0.372249</td>\n",
       "      <td>0.611106</td>\n",
       "      <td>0.000000</td>\n",
       "      <td>00:00</td>\n",
       "    </tr>\n",
       "    <tr>\n",
       "      <td>16</td>\n",
       "      <td>0.372584</td>\n",
       "      <td>0.612781</td>\n",
       "      <td>0.000000</td>\n",
       "      <td>00:00</td>\n",
       "    </tr>\n",
       "    <tr>\n",
       "      <td>17</td>\n",
       "      <td>0.350962</td>\n",
       "      <td>0.602755</td>\n",
       "      <td>0.000000</td>\n",
       "      <td>00:00</td>\n",
       "    </tr>\n",
       "    <tr>\n",
       "      <td>18</td>\n",
       "      <td>0.328362</td>\n",
       "      <td>0.592900</td>\n",
       "      <td>0.000000</td>\n",
       "      <td>00:00</td>\n",
       "    </tr>\n",
       "    <tr>\n",
       "      <td>19</td>\n",
       "      <td>0.335334</td>\n",
       "      <td>0.595482</td>\n",
       "      <td>0.000000</td>\n",
       "      <td>00:00</td>\n",
       "    </tr>\n",
       "  </tbody>\n",
       "</table>"
      ],
      "text/plain": [
       "<IPython.core.display.HTML object>"
      ]
     },
     "metadata": {},
     "output_type": "display_data"
    }
   ],
   "source": [
    "learn.fit_one_cycle(20,1e-3)"
   ]
  },
  {
   "cell_type": "code",
   "execution_count": 17,
   "id": "5d4fd474",
   "metadata": {
    "execution": {
     "iopub.execute_input": "2023-02-08T19:09:38.308931Z",
     "iopub.status.busy": "2023-02-08T19:09:38.308585Z",
     "iopub.status.idle": "2023-02-08T19:09:38.352060Z",
     "shell.execute_reply": "2023-02-08T19:09:38.351065Z"
    },
    "id": "OXXhzLhyhyKk",
    "outputId": "650fc959-cd70-463f-feac-98ab392d0559",
    "papermill": {
     "duration": 0.055592,
     "end_time": "2023-02-08T19:09:38.354202",
     "exception": false,
     "start_time": "2023-02-08T19:09:38.298610",
     "status": "completed"
    },
    "tags": []
   },
   "outputs": [
    {
     "data": {
      "text/html": [
       "\n",
       "<style>\n",
       "    /* Turns off some styling */\n",
       "    progress {\n",
       "        /* gets rid of default border in Firefox and Opera. */\n",
       "        border: none;\n",
       "        /* Needs to be in here for Safari polyfill so background images work as expected. */\n",
       "        background-size: auto;\n",
       "    }\n",
       "    progress:not([value]), progress:not([value])::-webkit-progress-bar {\n",
       "        background: repeating-linear-gradient(45deg, #7e7e7e, #7e7e7e 10px, #5c5c5c 10px, #5c5c5c 20px);\n",
       "    }\n",
       "    .progress-bar-interrupted, .progress-bar-interrupted::-webkit-progress-bar {\n",
       "        background: #F44336;\n",
       "    }\n",
       "</style>\n"
      ],
      "text/plain": [
       "<IPython.core.display.HTML object>"
      ]
     },
     "metadata": {},
     "output_type": "display_data"
    },
    {
     "data": {
      "text/html": [],
      "text/plain": [
       "<IPython.core.display.HTML object>"
      ]
     },
     "metadata": {},
     "output_type": "display_data"
    },
    {
     "data": {
      "text/html": [
       "<table border=\"1\" class=\"dataframe\">\n",
       "  <thead>\n",
       "    <tr style=\"text-align: right;\">\n",
       "      <th></th>\n",
       "      <th>Id</th>\n",
       "      <th>fixed acidity</th>\n",
       "      <th>volatile acidity</th>\n",
       "      <th>citric acid</th>\n",
       "      <th>residual sugar</th>\n",
       "      <th>chlorides</th>\n",
       "      <th>free sulfur dioxide</th>\n",
       "      <th>total sulfur dioxide</th>\n",
       "      <th>density</th>\n",
       "      <th>pH</th>\n",
       "      <th>sulphates</th>\n",
       "      <th>alcohol</th>\n",
       "      <th>quality</th>\n",
       "      <th>quality_pred</th>\n",
       "    </tr>\n",
       "  </thead>\n",
       "  <tbody>\n",
       "    <tr>\n",
       "      <th>0</th>\n",
       "      <td>-1.061804</td>\n",
       "      <td>-0.959883</td>\n",
       "      <td>0.290273</td>\n",
       "      <td>-0.862444</td>\n",
       "      <td>-0.117030</td>\n",
       "      <td>1.175120</td>\n",
       "      <td>0.708513</td>\n",
       "      <td>0.275807</td>\n",
       "      <td>-3.317599</td>\n",
       "      <td>1.382239</td>\n",
       "      <td>0.517472</td>\n",
       "      <td>0.959801</td>\n",
       "      <td>6.0</td>\n",
       "      <td>5.885556</td>\n",
       "    </tr>\n",
       "    <tr>\n",
       "      <th>1</th>\n",
       "      <td>0.338237</td>\n",
       "      <td>0.839259</td>\n",
       "      <td>-0.168007</td>\n",
       "      <td>1.672965</td>\n",
       "      <td>-0.462762</td>\n",
       "      <td>0.007000</td>\n",
       "      <td>1.007859</td>\n",
       "      <td>0.549763</td>\n",
       "      <td>1.115992</td>\n",
       "      <td>-1.962277</td>\n",
       "      <td>-0.588131</td>\n",
       "      <td>-0.976140</td>\n",
       "      <td>5.0</td>\n",
       "      <td>5.568706</td>\n",
       "    </tr>\n",
       "    <tr>\n",
       "      <th>2</th>\n",
       "      <td>-0.875583</td>\n",
       "      <td>-0.959883</td>\n",
       "      <td>0.118418</td>\n",
       "      <td>-0.598339</td>\n",
       "      <td>-0.117030</td>\n",
       "      <td>-0.201593</td>\n",
       "      <td>1.606551</td>\n",
       "      <td>1.493389</td>\n",
       "      <td>-1.013849</td>\n",
       "      <td>-0.220342</td>\n",
       "      <td>-0.588131</td>\n",
       "      <td>0.379019</td>\n",
       "      <td>5.0</td>\n",
       "      <td>5.425014</td>\n",
       "    </tr>\n",
       "    <tr>\n",
       "      <th>3</th>\n",
       "      <td>1.237176</td>\n",
       "      <td>-0.437552</td>\n",
       "      <td>0.949050</td>\n",
       "      <td>-0.703981</td>\n",
       "      <td>-0.347518</td>\n",
       "      <td>-0.243312</td>\n",
       "      <td>2.105461</td>\n",
       "      <td>0.823719</td>\n",
       "      <td>-0.981270</td>\n",
       "      <td>-0.150664</td>\n",
       "      <td>-0.882959</td>\n",
       "      <td>-0.879343</td>\n",
       "      <td>5.0</td>\n",
       "      <td>5.967989</td>\n",
       "    </tr>\n",
       "    <tr>\n",
       "      <th>4</th>\n",
       "      <td>-0.271212</td>\n",
       "      <td>0.607111</td>\n",
       "      <td>0.748553</td>\n",
       "      <td>0.246798</td>\n",
       "      <td>-0.462762</td>\n",
       "      <td>0.173874</td>\n",
       "      <td>1.007859</td>\n",
       "      <td>0.428004</td>\n",
       "      <td>0.181486</td>\n",
       "      <td>-1.683567</td>\n",
       "      <td>-0.440718</td>\n",
       "      <td>-0.588951</td>\n",
       "      <td>5.0</td>\n",
       "      <td>4.767922</td>\n",
       "    </tr>\n",
       "    <tr>\n",
       "      <th>5</th>\n",
       "      <td>-1.552750</td>\n",
       "      <td>0.897295</td>\n",
       "      <td>-0.855427</td>\n",
       "      <td>1.514502</td>\n",
       "      <td>-0.808493</td>\n",
       "      <td>-1.369713</td>\n",
       "      <td>-1.087563</td>\n",
       "      <td>-0.759139</td>\n",
       "      <td>-1.057343</td>\n",
       "      <td>-0.290019</td>\n",
       "      <td>1.107127</td>\n",
       "      <td>1.830975</td>\n",
       "      <td>7.0</td>\n",
       "      <td>6.756853</td>\n",
       "    </tr>\n",
       "    <tr>\n",
       "      <th>6</th>\n",
       "      <td>1.440326</td>\n",
       "      <td>-0.263441</td>\n",
       "      <td>-0.683572</td>\n",
       "      <td>0.986292</td>\n",
       "      <td>-0.462762</td>\n",
       "      <td>1.216838</td>\n",
       "      <td>-0.788217</td>\n",
       "      <td>-1.002655</td>\n",
       "      <td>-0.535715</td>\n",
       "      <td>-0.220342</td>\n",
       "      <td>0.075230</td>\n",
       "      <td>0.959801</td>\n",
       "      <td>6.0</td>\n",
       "      <td>5.973164</td>\n",
       "    </tr>\n",
       "    <tr>\n",
       "      <th>7</th>\n",
       "      <td>0.255285</td>\n",
       "      <td>-1.308104</td>\n",
       "      <td>0.290273</td>\n",
       "      <td>-1.285012</td>\n",
       "      <td>-0.347518</td>\n",
       "      <td>-0.326749</td>\n",
       "      <td>-1.087563</td>\n",
       "      <td>-1.093974</td>\n",
       "      <td>-0.742203</td>\n",
       "      <td>1.869980</td>\n",
       "      <td>0.148938</td>\n",
       "      <td>0.766207</td>\n",
       "      <td>5.0</td>\n",
       "      <td>5.528644</td>\n",
       "    </tr>\n",
       "    <tr>\n",
       "      <th>8</th>\n",
       "      <td>0.764852</td>\n",
       "      <td>-0.263441</td>\n",
       "      <td>-0.969996</td>\n",
       "      <td>-0.387055</td>\n",
       "      <td>-0.693249</td>\n",
       "      <td>-0.827372</td>\n",
       "      <td>-0.189525</td>\n",
       "      <td>-0.454743</td>\n",
       "      <td>-1.176876</td>\n",
       "      <td>0.546111</td>\n",
       "      <td>0.001524</td>\n",
       "      <td>-0.298560</td>\n",
       "      <td>7.0</td>\n",
       "      <td>6.028345</td>\n",
       "    </tr>\n",
       "  </tbody>\n",
       "</table>"
      ],
      "text/plain": [
       "<IPython.core.display.HTML object>"
      ]
     },
     "metadata": {},
     "output_type": "display_data"
    }
   ],
   "source": [
    "learn.show_results()"
   ]
  },
  {
   "cell_type": "code",
   "execution_count": 18,
   "id": "2cd9336f",
   "metadata": {
    "execution": {
     "iopub.execute_input": "2023-02-08T19:09:38.376263Z",
     "iopub.status.busy": "2023-02-08T19:09:38.375238Z",
     "iopub.status.idle": "2023-02-08T19:09:38.387283Z",
     "shell.execute_reply": "2023-02-08T19:09:38.386346Z"
    },
    "id": "qV-Pquh2XFf0",
    "papermill": {
     "duration": 0.02435,
     "end_time": "2023-02-08T19:09:38.389544",
     "exception": false,
     "start_time": "2023-02-08T19:09:38.365194",
     "status": "completed"
    },
    "tags": []
   },
   "outputs": [],
   "source": [
    "dl = learn.dls.test_dl(test_df)"
   ]
  },
  {
   "cell_type": "code",
   "execution_count": 19,
   "id": "d19d1b54",
   "metadata": {
    "execution": {
     "iopub.execute_input": "2023-02-08T19:09:38.409230Z",
     "iopub.status.busy": "2023-02-08T19:09:38.408441Z",
     "iopub.status.idle": "2023-02-08T19:09:38.584993Z",
     "shell.execute_reply": "2023-02-08T19:09:38.584145Z"
    },
    "id": "FMBk6J7qXFcy",
    "outputId": "aef98b4d-f033-4df5-a2fb-fc219556adc0",
    "papermill": {
     "duration": 0.188761,
     "end_time": "2023-02-08T19:09:38.587369",
     "exception": false,
     "start_time": "2023-02-08T19:09:38.398608",
     "status": "completed"
    },
    "tags": []
   },
   "outputs": [
    {
     "data": {
      "text/html": [
       "\n",
       "<style>\n",
       "    /* Turns off some styling */\n",
       "    progress {\n",
       "        /* gets rid of default border in Firefox and Opera. */\n",
       "        border: none;\n",
       "        /* Needs to be in here for Safari polyfill so background images work as expected. */\n",
       "        background-size: auto;\n",
       "    }\n",
       "    progress:not([value]), progress:not([value])::-webkit-progress-bar {\n",
       "        background: repeating-linear-gradient(45deg, #7e7e7e, #7e7e7e 10px, #5c5c5c 10px, #5c5c5c 20px);\n",
       "    }\n",
       "    .progress-bar-interrupted, .progress-bar-interrupted::-webkit-progress-bar {\n",
       "        background: #F44336;\n",
       "    }\n",
       "</style>\n"
      ],
      "text/plain": [
       "<IPython.core.display.HTML object>"
      ]
     },
     "metadata": {},
     "output_type": "display_data"
    },
    {
     "data": {
      "text/html": [],
      "text/plain": [
       "<IPython.core.display.HTML object>"
      ]
     },
     "metadata": {},
     "output_type": "display_data"
    },
    {
     "data": {
      "text/plain": [
       "(tensor([[5.8566],\n",
       "         [5.9466],\n",
       "         [5.5969],\n",
       "         ...,\n",
       "         [4.2748],\n",
       "         [5.1763],\n",
       "         [5.2565]]),\n",
       " None)"
      ]
     },
     "execution_count": 19,
     "metadata": {},
     "output_type": "execute_result"
    }
   ],
   "source": [
    "learn.get_preds(dl=dl)"
   ]
  },
  {
   "cell_type": "code",
   "execution_count": 20,
   "id": "0c8df14d",
   "metadata": {
    "execution": {
     "iopub.execute_input": "2023-02-08T19:09:38.610716Z",
     "iopub.status.busy": "2023-02-08T19:09:38.610391Z",
     "iopub.status.idle": "2023-02-08T19:09:38.792079Z",
     "shell.execute_reply": "2023-02-08T19:09:38.790748Z"
    },
    "id": "NRfUN1mqXbZF",
    "outputId": "e5cb54b8-270f-4f62-d285-116eb2258dab",
    "papermill": {
     "duration": 0.195747,
     "end_time": "2023-02-08T19:09:38.794499",
     "exception": false,
     "start_time": "2023-02-08T19:09:38.598752",
     "status": "completed"
    },
    "tags": []
   },
   "outputs": [
    {
     "data": {
      "text/html": [
       "\n",
       "<style>\n",
       "    /* Turns off some styling */\n",
       "    progress {\n",
       "        /* gets rid of default border in Firefox and Opera. */\n",
       "        border: none;\n",
       "        /* Needs to be in here for Safari polyfill so background images work as expected. */\n",
       "        background-size: auto;\n",
       "    }\n",
       "    progress:not([value]), progress:not([value])::-webkit-progress-bar {\n",
       "        background: repeating-linear-gradient(45deg, #7e7e7e, #7e7e7e 10px, #5c5c5c 10px, #5c5c5c 20px);\n",
       "    }\n",
       "    .progress-bar-interrupted, .progress-bar-interrupted::-webkit-progress-bar {\n",
       "        background: #F44336;\n",
       "    }\n",
       "</style>\n"
      ],
      "text/plain": [
       "<IPython.core.display.HTML object>"
      ]
     },
     "metadata": {},
     "output_type": "display_data"
    },
    {
     "data": {
      "text/html": [],
      "text/plain": [
       "<IPython.core.display.HTML object>"
      ]
     },
     "metadata": {},
     "output_type": "display_data"
    },
    {
     "data": {
      "text/plain": [
       "(tensor([[5.8566],\n",
       "         [5.9466],\n",
       "         [5.5969],\n",
       "         ...,\n",
       "         [4.2748],\n",
       "         [5.1763],\n",
       "         [5.2565]]),\n",
       " None)"
      ]
     },
     "execution_count": 20,
     "metadata": {},
     "output_type": "execute_result"
    }
   ],
   "source": [
    "preds = learn.get_preds(dl=dl)\n",
    "preds"
   ]
  },
  {
   "cell_type": "markdown",
   "id": "e3501bc9",
   "metadata": {
    "id": "ejMRS_OpXWRV",
    "papermill": {
     "duration": 0.009731,
     "end_time": "2023-02-08T19:09:38.814594",
     "exception": false,
     "start_time": "2023-02-08T19:09:38.804863",
     "status": "completed"
    },
    "tags": []
   },
   "source": [
    "Submit to kaggle"
   ]
  },
  {
   "cell_type": "code",
   "execution_count": 21,
   "id": "3bc5f651",
   "metadata": {
    "execution": {
     "iopub.execute_input": "2023-02-08T19:09:38.836100Z",
     "iopub.status.busy": "2023-02-08T19:09:38.834541Z",
     "iopub.status.idle": "2023-02-08T19:09:38.839449Z",
     "shell.execute_reply": "2023-02-08T19:09:38.838594Z"
    },
    "id": "FpkjQ9XEXxaK",
    "papermill": {
     "duration": 0.017307,
     "end_time": "2023-02-08T19:09:38.841634",
     "exception": false,
     "start_time": "2023-02-08T19:09:38.824327",
     "status": "completed"
    },
    "tags": []
   },
   "outputs": [],
   "source": [
    "target_preds = preds[0]"
   ]
  },
  {
   "cell_type": "code",
   "execution_count": 22,
   "id": "428a63ae",
   "metadata": {
    "execution": {
     "iopub.execute_input": "2023-02-08T19:09:38.862477Z",
     "iopub.status.busy": "2023-02-08T19:09:38.861643Z",
     "iopub.status.idle": "2023-02-08T19:09:38.879915Z",
     "shell.execute_reply": "2023-02-08T19:09:38.878841Z"
    },
    "id": "qryGutZGXxWv",
    "outputId": "59e2c1f1-6107-422a-f0de-641bc1fc2b65",
    "papermill": {
     "duration": 0.031167,
     "end_time": "2023-02-08T19:09:38.882287",
     "exception": false,
     "start_time": "2023-02-08T19:09:38.851120",
     "status": "completed"
    },
    "tags": []
   },
   "outputs": [
    {
     "data": {
      "text/html": [
       "<div>\n",
       "<style scoped>\n",
       "    .dataframe tbody tr th:only-of-type {\n",
       "        vertical-align: middle;\n",
       "    }\n",
       "\n",
       "    .dataframe tbody tr th {\n",
       "        vertical-align: top;\n",
       "    }\n",
       "\n",
       "    .dataframe thead th {\n",
       "        text-align: right;\n",
       "    }\n",
       "</style>\n",
       "<table border=\"1\" class=\"dataframe\">\n",
       "  <thead>\n",
       "    <tr style=\"text-align: right;\">\n",
       "      <th></th>\n",
       "      <th>Id</th>\n",
       "      <th>quality</th>\n",
       "    </tr>\n",
       "  </thead>\n",
       "  <tbody>\n",
       "    <tr>\n",
       "      <th>0</th>\n",
       "      <td>2056</td>\n",
       "      <td>5.856646</td>\n",
       "    </tr>\n",
       "    <tr>\n",
       "      <th>1</th>\n",
       "      <td>2057</td>\n",
       "      <td>5.946553</td>\n",
       "    </tr>\n",
       "    <tr>\n",
       "      <th>2</th>\n",
       "      <td>2058</td>\n",
       "      <td>5.596942</td>\n",
       "    </tr>\n",
       "    <tr>\n",
       "      <th>3</th>\n",
       "      <td>2059</td>\n",
       "      <td>5.994272</td>\n",
       "    </tr>\n",
       "    <tr>\n",
       "      <th>4</th>\n",
       "      <td>2060</td>\n",
       "      <td>6.636401</td>\n",
       "    </tr>\n",
       "  </tbody>\n",
       "</table>\n",
       "</div>"
      ],
      "text/plain": [
       "     Id   quality\n",
       "0  2056  5.856646\n",
       "1  2057  5.946553\n",
       "2  2058  5.596942\n",
       "3  2059  5.994272\n",
       "4  2060  6.636401"
      ]
     },
     "execution_count": 22,
     "metadata": {},
     "output_type": "execute_result"
    }
   ],
   "source": [
    "test_df['quality'] = target_preds\n",
    "\n",
    "test_df.to_csv('submission.csv', columns=['Id','quality'], index=False)\n",
    "\n",
    "submission = pd.read_csv('submission.csv')\n",
    "submission.head()"
   ]
  },
  {
   "cell_type": "code",
   "execution_count": 23,
   "id": "bb85107f",
   "metadata": {
    "execution": {
     "iopub.execute_input": "2023-02-08T19:09:38.902862Z",
     "iopub.status.busy": "2023-02-08T19:09:38.902600Z",
     "iopub.status.idle": "2023-02-08T19:09:39.942839Z",
     "shell.execute_reply": "2023-02-08T19:09:39.941610Z"
    },
    "papermill": {
     "duration": 1.053337,
     "end_time": "2023-02-08T19:09:39.945415",
     "exception": false,
     "start_time": "2023-02-08T19:09:38.892078",
     "status": "completed"
    },
    "tags": []
   },
   "outputs": [
    {
     "name": "stdout",
     "output_type": "stream",
     "text": [
      "__notebook__.ipynb  models  submission.csv\r\n"
     ]
    }
   ],
   "source": [
    "!ls"
   ]
  }
 ],
 "metadata": {
  "kernelspec": {
   "display_name": "Python 3",
   "language": "python",
   "name": "python3"
  },
  "language_info": {
   "codemirror_mode": {
    "name": "ipython",
    "version": 3
   },
   "file_extension": ".py",
   "mimetype": "text/x-python",
   "name": "python",
   "nbconvert_exporter": "python",
   "pygments_lexer": "ipython3",
   "version": "3.7.12"
  },
  "papermill": {
   "default_parameters": {},
   "duration": 39.949567,
   "end_time": "2023-02-08T19:09:41.681005",
   "environment_variables": {},
   "exception": null,
   "input_path": "__notebook__.ipynb",
   "output_path": "__notebook__.ipynb",
   "parameters": {},
   "start_time": "2023-02-08T19:09:01.731438",
   "version": "2.3.4"
  }
 },
 "nbformat": 4,
 "nbformat_minor": 5
}
